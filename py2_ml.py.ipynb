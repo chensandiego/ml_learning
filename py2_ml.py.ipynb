{
 "cells": [
  {
   "cell_type": "code",
   "execution_count": 1,
   "metadata": {
    "collapsed": true
   },
   "outputs": [],
   "source": [
    "%matplotlib inline\n",
    "import pandas as pd\n",
    "from sklearn.datasets import load_breast_cancer"
   ]
  },
  {
   "cell_type": "code",
   "execution_count": 4,
   "metadata": {
    "collapsed": false
   },
   "outputs": [
    {
     "data": {
      "text/plain": [
       "[<matplotlib.lines.Line2D at 0x7f03c6a46ed0>]"
      ]
     },
     "execution_count": 4,
     "metadata": {},
     "output_type": "execute_result"
    },
    {
     "data": {
      "image/png": "[encoded data removed]",
      "text/plain": [
       "<matplotlib.figure.Figure at 0x7f03c6b67bd0>"
      ]
     },
     "metadata": {},
     "output_type": "display_data"
    }
   ],
   "source": [
    "from sklearn.linear_model.logistic import LogisticRegression\n",
    "from sklearn.naive_bayes import GaussianNB\n",
    "from sklearn.model_selection import train_test_split,cross_val_score\n",
    "import matplotlib.pyplot as plt\n",
    "\n",
    "X,y=load_breast_cancer(return_X_y=True)\n",
    "X_train,X_test,y_train,y_test=train_test_split(X,y,stratify=y,test_size=0.2,random_state=31)\n",
    "\n",
    "lr=LogisticRegression()\n",
    "nb=GaussianNB()\n",
    "\n",
    "lr_scores=[]\n",
    "nb_scores=[]\n",
    "\n",
    "\n",
    "train_sizes=range(10,len(X_train),25)\n",
    "\n",
    "for train_size in train_sizes:\n",
    "    X_slice,_,y_slice,_=train_test_split( X_train, y_train, train_size=train_size, stratify=y_train, random_state=31)\n",
    "    nb.fit(X_slice,y_slice)\n",
    "    nb_scores.append(nb.score(X_test,y_test))\n",
    "    lr.fit(X_slice,y_slice)\n",
    "    lr_scores.append(lr.score(X_test,y_test))\n",
    "    \n",
    "plt.plot(train_sizes,nb_scores)\n",
    "plt.plot(train_sizes,lr_scores,linestyle='--')\n"
   ]
  },
  {
   "cell_type": "code",
   "execution_count": null,
   "metadata": {
    "collapsed": true
   },
   "outputs": [],
   "source": []
  }
 ],
 "metadata": {
  "kernelspec": {
   "display_name": "Python 2",
   "language": "python",
   "name": "python2"
  },
  "language_info": {
   "codemirror_mode": {
    "name": "ipython",
    "version": 2
   },
   "file_extension": ".py",
   "mimetype": "text/x-python",
   "name": "python",
   "nbconvert_exporter": "python",
   "pygments_lexer": "ipython2",
   "version": "2.7.13"
  }
 },
 "nbformat": 4,
 "nbformat_minor": 2
}
